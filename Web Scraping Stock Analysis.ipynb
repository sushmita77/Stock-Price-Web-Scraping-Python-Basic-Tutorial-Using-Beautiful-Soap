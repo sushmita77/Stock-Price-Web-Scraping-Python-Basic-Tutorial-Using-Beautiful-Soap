{
 "cells": [
  {
   "cell_type": "markdown",
   "metadata": {},
   "source": [
    "# Web scraping of the 500 Company Stock Details Step by Step"
   ]
  },
  {
   "cell_type": "markdown",
   "metadata": {},
   "source": [
    "We are going to read the stock related data of 500 companies from the moneycontrol website using web scraping.\n",
    "\n",
    "BeautifulSoap is used to parse HTML content."
   ]
  },
  {
   "cell_type": "code",
   "execution_count": 1,
   "metadata": {},
   "outputs": [],
   "source": [
    "from bs4 import BeautifulSoup\n",
    "import requests\n",
    "import pandas as pd\n",
    "import time"
   ]
  },
  {
   "cell_type": "code",
   "execution_count": 2,
   "metadata": {},
   "outputs": [],
   "source": [
    "#This url has details and hyperlinks of all 500 companies\n",
    "\n",
    "r=requests.get('https://www.moneycontrol.com/india/stockpricequote/')"
   ]
  },
  {
   "cell_type": "code",
   "execution_count": 3,
   "metadata": {},
   "outputs": [],
   "source": [
    "#We want to view the data in text format\n",
    "data=r.text"
   ]
  },
  {
   "cell_type": "code",
   "execution_count": 4,
   "metadata": {},
   "outputs": [
    {
     "name": "stdout",
     "output_type": "stream",
     "text": [
      " <html>\r\n",
      " <head>\r\n",
      " <meta http-equiv=\"Content-Type\" content=\"text/html; charset=utf-8\" />\r\n",
      " <title>Stock Quotes|Company Stock Price quotes|NSE/ BSE Listed Company Stocks|Indian Stock Market</title>\r\n",
      " <meta name=\"description\" content=\"Get all Indian company stock quotes listed in the share market. NSE/ BSE Listed companies stock price quotes list, top company stock list on Moneycontrol.\">\r\n",
      " <meta name=\"keywords\" content=\"Stock Market Quotes, Company Stock Quotes, Share Market Price & Chart Quotes\">\r\n",
      "<link rel=\"canonical\" href=\"https://www.moneycontrol.com/india/stockpricequote/\" />\r\n",
      "<meta property=\"og:url\" content=\"https://www.moneycontrol.com/india/stockpricequote/\" />\r\n",
      "<meta property=\"og:title\" content=\"Stock Quotes|Company Stock Price quotes|NSE/ BSE Listed Company Stocks|Indian Stock Market\" />\r\n",
      "<meta property=\"og:description\" content=\"Get all Indian company stock quotes listed in the share market. NSE/ BSE Listed companies stock price quotes list, top company stock list on Moneycont\n"
     ]
    }
   ],
   "source": [
    "#we can check some part of this html data\n",
    "print(data[:1000])"
   ]
  },
  {
   "cell_type": "markdown",
   "metadata": {},
   "source": [
    "# Web Scraping"
   ]
  },
  {
   "cell_type": "markdown",
   "metadata": {},
   "source": [
    "\n",
    "\n",
    "Use soap to parse HTML so that we can focus on content on web page we actually intend to target.\n",
    "Here we follow few steps:\n",
    "\n",
    "\n",
    "1. On the moneycontrol website right click and select inspect to view source code of webpage.\n",
    "   Then click on the arrow on top so that we can examine the arrow over each of our 500 company links.\n",
    "    \n",
    "2. Try first company (say 3M India) , as we place arrow over it we get its html code highlighted which tells us that its class is bl_12.\n",
    "\n",
    "3. so filter the page content below as  tag \"a\"  and class bl_12.\n"
   ]
  },
  {
   "cell_type": "code",
   "execution_count": 5,
   "metadata": {},
   "outputs": [],
   "source": [
    "soup=BeautifulSoup(data,'html.parser')\n",
    "\n",
    "mydivs = soup.findAll(\"a\", {\"class\": \"bl_12\"})"
   ]
  },
  {
   "cell_type": "markdown",
   "metadata": {
    "collapsed": true
   },
   "source": [
    "Lets collect all these hyperlinks of all companies"
   ]
  },
  {
   "cell_type": "code",
   "execution_count": 6,
   "metadata": {},
   "outputs": [
    {
     "data": {
      "text/plain": [
       "['javascript:;',\n",
       " 'https://www.moneycontrol.com/india/stockpricequote/diversified/3mindia/MI42',\n",
       " 'https://www.moneycontrol.com/india/stockpricequote/financegeneral/aavasfinanciers/AF17',\n",
       " 'https://www.moneycontrol.com/india/stockpricequote/financeinvestments/adityabirlacapital/ABC9',\n",
       " 'https://www.moneycontrol.com/india/stockpricequote/pharmaceuticals/abbottindia/AI51']"
      ]
     },
     "execution_count": 6,
     "metadata": {},
     "output_type": "execute_result"
    }
   ],
   "source": [
    "values=[]\n",
    "for link in mydivs:\n",
    "    value=link.get('href')\n",
    "    values.append(value)\n",
    "\n",
    "\n",
    "values= [ link.get('href') for link in mydivs]\n",
    "values[0:5]\n"
   ]
  },
  {
   "cell_type": "markdown",
   "metadata": {},
   "source": [
    "Let's store our results to a Dataframe"
   ]
  },
  {
   "cell_type": "code",
   "execution_count": 7,
   "metadata": {},
   "outputs": [
    {
     "name": "stdout",
     "output_type": "stream",
     "text": [
      "(499, 1)\n"
     ]
    },
    {
     "data": {
      "text/html": [
       "<div>\n",
       "<style scoped>\n",
       "    .dataframe tbody tr th:only-of-type {\n",
       "        vertical-align: middle;\n",
       "    }\n",
       "\n",
       "    .dataframe tbody tr th {\n",
       "        vertical-align: top;\n",
       "    }\n",
       "\n",
       "    .dataframe thead th {\n",
       "        text-align: right;\n",
       "    }\n",
       "</style>\n",
       "<table border=\"1\" class=\"dataframe\">\n",
       "  <thead>\n",
       "    <tr style=\"text-align: right;\">\n",
       "      <th></th>\n",
       "      <th>LINK</th>\n",
       "    </tr>\n",
       "  </thead>\n",
       "  <tbody>\n",
       "    <tr>\n",
       "      <th>0</th>\n",
       "      <td>javascript:;</td>\n",
       "    </tr>\n",
       "    <tr>\n",
       "      <th>1</th>\n",
       "      <td>https://www.moneycontrol.com/india/stockpricequote/diversified/3mindia/MI42</td>\n",
       "    </tr>\n",
       "    <tr>\n",
       "      <th>2</th>\n",
       "      <td>https://www.moneycontrol.com/india/stockpricequote/financegeneral/aavasfinanciers/AF17</td>\n",
       "    </tr>\n",
       "    <tr>\n",
       "      <th>3</th>\n",
       "      <td>https://www.moneycontrol.com/india/stockpricequote/financeinvestments/adityabirlacapital/ABC9</td>\n",
       "    </tr>\n",
       "    <tr>\n",
       "      <th>4</th>\n",
       "      <td>https://www.moneycontrol.com/india/stockpricequote/pharmaceuticals/abbottindia/AI51</td>\n",
       "    </tr>\n",
       "  </tbody>\n",
       "</table>\n",
       "</div>"
      ],
      "text/plain": [
       "                                                                                            LINK\n",
       "0                                                                                   javascript:;\n",
       "1                    https://www.moneycontrol.com/india/stockpricequote/diversified/3mindia/MI42\n",
       "2         https://www.moneycontrol.com/india/stockpricequote/financegeneral/aavasfinanciers/AF17\n",
       "3  https://www.moneycontrol.com/india/stockpricequote/financeinvestments/adityabirlacapital/ABC9\n",
       "4            https://www.moneycontrol.com/india/stockpricequote/pharmaceuticals/abbottindia/AI51"
      ]
     },
     "execution_count": 7,
     "metadata": {},
     "output_type": "execute_result"
    }
   ],
   "source": [
    "#create a temp Df\n",
    "pd.set_option('max_colwidth', 800)\n",
    "stock_data = pd.DataFrame({'LINK': values})\n",
    "\n",
    "print(stock_data.shape)\n",
    "stock_data.head(5)"
   ]
  },
  {
   "cell_type": "markdown",
   "metadata": {},
   "source": [
    "# Time to find some Data Patterns!"
   ]
  },
  {
   "cell_type": "markdown",
   "metadata": {},
   "source": [
    "We intend to collect details about company name, code and sector.\n",
    "\n",
    "Where to get these details on the website?\n",
    "Maybe, the URL!\n",
    "\n",
    "Let's observe a company URL to get some insights \n",
    "\n",
    "https://www.moneycontrol.com/india/stockpricequote/diversified/3mindia/MI42\n",
    "    \n",
    "The sector is diversified ,code is MI42,name is 3mindia\n",
    "\n"
   ]
  },
  {
   "cell_type": "markdown",
   "metadata": {},
   "source": [
    "# Some Outliers"
   ]
  },
  {
   "cell_type": "markdown",
   "metadata": {},
   "source": [
    "Not all links we retrieved are correct.\n",
    "To check correct URL format perform split of the LINK and extract the codes, sector and name.\n",
    "The outliers are printed so that they can be dropped."
   ]
  },
  {
   "cell_type": "code",
   "execution_count": 8,
   "metadata": {},
   "outputs": [
    {
     "name": "stdout",
     "output_type": "stream",
     "text": [
      "0\n",
      "497\n",
      "498\n"
     ]
    }
   ],
   "source": [
    "\n",
    "codes=[]\n",
    "sector=[]\n",
    "name=[]\n",
    "\n",
    "for index,row in stock_data.iterrows():\n",
    "    temp=  row['LINK'].split('/')\n",
    "    if len(temp)==8:\n",
    "        codes.append(temp[-1])\n",
    "        sector.append(temp[-3])\n",
    "        name.append(temp[-2])\n",
    "    else:\n",
    "        print(index)\n",
    "        "
   ]
  },
  {
   "cell_type": "code",
   "execution_count": 9,
   "metadata": {},
   "outputs": [
    {
     "data": {
      "text/plain": [
       "(496, 1)"
      ]
     },
     "execution_count": 9,
     "metadata": {},
     "output_type": "execute_result"
    }
   ],
   "source": [
    "#### so lets drop indexes at 0 ,497 and 498\n",
    "stock_data=stock_data.drop([0, 497,498])\n",
    "\n",
    "stock_data.shape\n"
   ]
  },
  {
   "cell_type": "code",
   "execution_count": 10,
   "metadata": {},
   "outputs": [
    {
     "data": {
      "text/html": [
       "<div>\n",
       "<style scoped>\n",
       "    .dataframe tbody tr th:only-of-type {\n",
       "        vertical-align: middle;\n",
       "    }\n",
       "\n",
       "    .dataframe tbody tr th {\n",
       "        vertical-align: top;\n",
       "    }\n",
       "\n",
       "    .dataframe thead th {\n",
       "        text-align: right;\n",
       "    }\n",
       "</style>\n",
       "<table border=\"1\" class=\"dataframe\">\n",
       "  <thead>\n",
       "    <tr style=\"text-align: right;\">\n",
       "      <th></th>\n",
       "      <th>LINK</th>\n",
       "      <th>sector</th>\n",
       "      <th>name</th>\n",
       "      <th>code</th>\n",
       "    </tr>\n",
       "  </thead>\n",
       "  <tbody>\n",
       "    <tr>\n",
       "      <th>1</th>\n",
       "      <td>https://www.moneycontrol.com/india/stockpricequote/diversified/3mindia/MI42</td>\n",
       "      <td>diversified</td>\n",
       "      <td>MI42</td>\n",
       "      <td>3mindia</td>\n",
       "    </tr>\n",
       "    <tr>\n",
       "      <th>2</th>\n",
       "      <td>https://www.moneycontrol.com/india/stockpricequote/financegeneral/aavasfinanciers/AF17</td>\n",
       "      <td>financegeneral</td>\n",
       "      <td>AF17</td>\n",
       "      <td>aavasfinanciers</td>\n",
       "    </tr>\n",
       "    <tr>\n",
       "      <th>3</th>\n",
       "      <td>https://www.moneycontrol.com/india/stockpricequote/financeinvestments/adityabirlacapital/ABC9</td>\n",
       "      <td>financeinvestments</td>\n",
       "      <td>ABC9</td>\n",
       "      <td>adityabirlacapital</td>\n",
       "    </tr>\n",
       "    <tr>\n",
       "      <th>4</th>\n",
       "      <td>https://www.moneycontrol.com/india/stockpricequote/pharmaceuticals/abbottindia/AI51</td>\n",
       "      <td>pharmaceuticals</td>\n",
       "      <td>AI51</td>\n",
       "      <td>abbottindia</td>\n",
       "    </tr>\n",
       "    <tr>\n",
       "      <th>5</th>\n",
       "      <td>https://www.moneycontrol.com/india/stockpricequote/cementmajor/acc/ACC06</td>\n",
       "      <td>cementmajor</td>\n",
       "      <td>ACC06</td>\n",
       "      <td>acc</td>\n",
       "    </tr>\n",
       "  </tbody>\n",
       "</table>\n",
       "</div>"
      ],
      "text/plain": [
       "                                                                                            LINK  \\\n",
       "1                    https://www.moneycontrol.com/india/stockpricequote/diversified/3mindia/MI42   \n",
       "2         https://www.moneycontrol.com/india/stockpricequote/financegeneral/aavasfinanciers/AF17   \n",
       "3  https://www.moneycontrol.com/india/stockpricequote/financeinvestments/adityabirlacapital/ABC9   \n",
       "4            https://www.moneycontrol.com/india/stockpricequote/pharmaceuticals/abbottindia/AI51   \n",
       "5                       https://www.moneycontrol.com/india/stockpricequote/cementmajor/acc/ACC06   \n",
       "\n",
       "               sector   name                code  \n",
       "1         diversified   MI42             3mindia  \n",
       "2      financegeneral   AF17     aavasfinanciers  \n",
       "3  financeinvestments   ABC9  adityabirlacapital  \n",
       "4     pharmaceuticals   AI51         abbottindia  \n",
       "5         cementmajor  ACC06                 acc  "
      ]
     },
     "execution_count": 10,
     "metadata": {},
     "output_type": "execute_result"
    }
   ],
   "source": [
    "stock_data['sector']=sector\n",
    "stock_data['name']=codes\n",
    "stock_data['code']=name\n",
    "stock_data.head()"
   ]
  },
  {
   "cell_type": "markdown",
   "metadata": {},
   "source": [
    "Cheers! Let's save the Data."
   ]
  },
  {
   "cell_type": "code",
   "execution_count": 11,
   "metadata": {},
   "outputs": [],
   "source": [
    "#get this result of 500 urls and codes into a csv file\n",
    "stock_data.to_csv('Initial500CompanyData.csv',index=False)"
   ]
  },
  {
   "cell_type": "markdown",
   "metadata": {},
   "source": [
    "# Let's dive deeper"
   ]
  },
  {
   "cell_type": "markdown",
   "metadata": {},
   "source": [
    "Now that we have the URLs to each of the 500 companies, let's analyse each Company to identify its Standalone properties.\n",
    "\n",
    "For example take a particular link, https://www.moneycontrol.com/india/stockpricequote/diversified/3mindia/MI42 \n",
    "\n",
    "Scroll down to get the Standalone properties.\n",
    "    \n",
    "Identify tag keys-class as value_txtfl and values-class as value_txtfr\n"
   ]
  },
  {
   "cell_type": "code",
   "execution_count": 12,
   "metadata": {},
   "outputs": [],
   "source": [
    "r=requests.get('https://www.moneycontrol.com/india/stockpricequote/diversified/3mindia/MI42')\n",
    "d=r.text\n",
    "soup=BeautifulSoup(d,'html.parser')\n",
    "\n",
    "mydivs = soup.findAll(\"div\", {\"class\": \"value_txtfl\"})\n",
    "myvalues=soup.findAll(\"div\",{\"class\":\"value_txtfr\"})\n"
   ]
  },
  {
   "cell_type": "markdown",
   "metadata": {},
   "source": [
    "Let's create our final dataframe to consists of a company's link and its standalone parameters as columns.\n"
   ]
  },
  {
   "cell_type": "code",
   "execution_count": 13,
   "metadata": {},
   "outputs": [
    {
     "name": "stdout",
     "output_type": "stream",
     "text": [
      "['Link', 'Market Cap (Rs Cr.)', 'P/E', 'Book Value (Rs)', 'Dividend (%)', 'Market Lot', 'Industry P/E', 'EPS (TTM)', 'P/C', 'Price/Book', 'Dividend Yield.(%)', 'Face Value (RS)', 'Deliverables (%)']\n"
     ]
    }
   ],
   "source": [
    "# Create the column names of our Dataframe\n",
    "col_names=[]\n",
    "col_names.append('Link')\n",
    "for div in mydivs:\n",
    "    if div.text not in col_names:\n",
    "        col_names.append(div.text)\n",
    "   \n",
    "    \n",
    "print(col_names) #to verify the columns got are correct \n"
   ]
  },
  {
   "cell_type": "code",
   "execution_count": 14,
   "metadata": {},
   "outputs": [
    {
     "data": {
      "text/html": [
       "<div>\n",
       "<style scoped>\n",
       "    .dataframe tbody tr th:only-of-type {\n",
       "        vertical-align: middle;\n",
       "    }\n",
       "\n",
       "    .dataframe tbody tr th {\n",
       "        vertical-align: top;\n",
       "    }\n",
       "\n",
       "    .dataframe thead th {\n",
       "        text-align: right;\n",
       "    }\n",
       "</style>\n",
       "<table border=\"1\" class=\"dataframe\">\n",
       "  <thead>\n",
       "    <tr style=\"text-align: right;\">\n",
       "      <th></th>\n",
       "      <th>Link</th>\n",
       "      <th>Market Cap (Rs Cr.)</th>\n",
       "      <th>P/E</th>\n",
       "      <th>Book Value (Rs)</th>\n",
       "      <th>Dividend (%)</th>\n",
       "      <th>Market Lot</th>\n",
       "      <th>Industry P/E</th>\n",
       "      <th>EPS (TTM)</th>\n",
       "      <th>P/C</th>\n",
       "      <th>Price/Book</th>\n",
       "      <th>Dividend Yield.(%)</th>\n",
       "      <th>Face Value (RS)</th>\n",
       "      <th>Deliverables (%)</th>\n",
       "    </tr>\n",
       "  </thead>\n",
       "  <tbody>\n",
       "  </tbody>\n",
       "</table>\n",
       "</div>"
      ],
      "text/plain": [
       "Empty DataFrame\n",
       "Columns: [Link, Market Cap (Rs Cr.), P/E, Book Value (Rs), Dividend (%), Market Lot, Industry P/E, EPS (TTM), P/C, Price/Book, Dividend Yield.(%), Face Value (RS), Deliverables (%)]\n",
       "Index: []"
      ]
     },
     "execution_count": 14,
     "metadata": {},
     "output_type": "execute_result"
    }
   ],
   "source": [
    "#create a Final \n",
    "scraped_data=pd.DataFrame(columns=col_names)\n",
    "scraped_data.head()"
   ]
  },
  {
   "cell_type": "markdown",
   "metadata": {},
   "source": [
    "# All set to gather the Data"
   ]
  },
  {
   "cell_type": "code",
   "execution_count": 17,
   "metadata": {},
   "outputs": [
    {
     "data": {
      "text/html": [
       "<div>\n",
       "<style scoped>\n",
       "    .dataframe tbody tr th:only-of-type {\n",
       "        vertical-align: middle;\n",
       "    }\n",
       "\n",
       "    .dataframe tbody tr th {\n",
       "        vertical-align: top;\n",
       "    }\n",
       "\n",
       "    .dataframe thead th {\n",
       "        text-align: right;\n",
       "    }\n",
       "</style>\n",
       "<table border=\"1\" class=\"dataframe\">\n",
       "  <thead>\n",
       "    <tr style=\"text-align: right;\">\n",
       "      <th></th>\n",
       "      <th>LINK</th>\n",
       "      <th>sector</th>\n",
       "      <th>name</th>\n",
       "      <th>code</th>\n",
       "    </tr>\n",
       "  </thead>\n",
       "  <tbody>\n",
       "    <tr>\n",
       "      <th>0</th>\n",
       "      <td>https://www.moneycontrol.com/india/stockpricequote/diversified/3mindia/MI42</td>\n",
       "      <td>diversified</td>\n",
       "      <td>MI42</td>\n",
       "      <td>3mindia</td>\n",
       "    </tr>\n",
       "    <tr>\n",
       "      <th>1</th>\n",
       "      <td>https://www.moneycontrol.com/india/stockpricequote/financegeneral/aavasfinanciers/AF17</td>\n",
       "      <td>financegeneral</td>\n",
       "      <td>AF17</td>\n",
       "      <td>aavasfinanciers</td>\n",
       "    </tr>\n",
       "    <tr>\n",
       "      <th>2</th>\n",
       "      <td>https://www.moneycontrol.com/india/stockpricequote/financeinvestments/adityabirlacapital/ABC9</td>\n",
       "      <td>financeinvestments</td>\n",
       "      <td>ABC9</td>\n",
       "      <td>adityabirlacapital</td>\n",
       "    </tr>\n",
       "    <tr>\n",
       "      <th>3</th>\n",
       "      <td>https://www.moneycontrol.com/india/stockpricequote/pharmaceuticals/abbottindia/AI51</td>\n",
       "      <td>pharmaceuticals</td>\n",
       "      <td>AI51</td>\n",
       "      <td>abbottindia</td>\n",
       "    </tr>\n",
       "    <tr>\n",
       "      <th>4</th>\n",
       "      <td>https://www.moneycontrol.com/india/stockpricequote/cementmajor/acc/ACC06</td>\n",
       "      <td>cementmajor</td>\n",
       "      <td>ACC06</td>\n",
       "      <td>acc</td>\n",
       "    </tr>\n",
       "  </tbody>\n",
       "</table>\n",
       "</div>"
      ],
      "text/plain": [
       "                                                                                            LINK  \\\n",
       "0                    https://www.moneycontrol.com/india/stockpricequote/diversified/3mindia/MI42   \n",
       "1         https://www.moneycontrol.com/india/stockpricequote/financegeneral/aavasfinanciers/AF17   \n",
       "2  https://www.moneycontrol.com/india/stockpricequote/financeinvestments/adityabirlacapital/ABC9   \n",
       "3            https://www.moneycontrol.com/india/stockpricequote/pharmaceuticals/abbottindia/AI51   \n",
       "4                       https://www.moneycontrol.com/india/stockpricequote/cementmajor/acc/ACC06   \n",
       "\n",
       "               sector   name                code  \n",
       "0         diversified   MI42             3mindia  \n",
       "1      financegeneral   AF17     aavasfinanciers  \n",
       "2  financeinvestments   ABC9  adityabirlacapital  \n",
       "3     pharmaceuticals   AI51         abbottindia  \n",
       "4         cementmajor  ACC06                 acc  "
      ]
     },
     "execution_count": 17,
     "metadata": {},
     "output_type": "execute_result"
    }
   ],
   "source": [
    "#Now we have to get the values for above columns from each respective webpage of 500 companies.\n",
    "#Lets first read the df from out previous 'Initial500CompanyData.csv' file to operate over each link there.\n",
    "stock_data=pd.read_csv('Initial500CompanyData.csv')\n",
    "stock_data.head(5)"
   ]
  },
  {
   "cell_type": "markdown",
   "metadata": {},
   "source": [
    "For each link we request to its webpage and get the values using class-tag and store it in our final_dataframe.\n",
    "Here sleep is necessary because we just cant request so many times back to back else server will refuse connection.\n"
   ]
  },
  {
   "cell_type": "code",
   "execution_count": 18,
   "metadata": {},
   "outputs": [],
   "source": [
    "j=0\n",
    "for link in stock_data['LINK']:\n",
    "        \n",
    "    try:\n",
    "        entries=[]\n",
    "        req=requests.get(link)\n",
    "        data=req.text\n",
    "        soup=BeautifulSoup(data,'html.parser')\n",
    "        myvalues=soup.findAll(\"div\",{\"class\":\"value_txtfr\"})\n",
    "\n",
    "        entries = [value.text for value in myvalues if value.text not in entries]\n",
    "        entries.insert(0,link)\n",
    "        \n",
    "        #we have to select link and the first 12 values for our 12 Standalone properties\n",
    "        scraped_data.loc[j]=entries[0:13]\n",
    "\n",
    "        j=j+1\n",
    "    except:\n",
    "        time.sleep(10)"
   ]
  },
  {
   "cell_type": "code",
   "execution_count": 19,
   "metadata": {},
   "outputs": [],
   "source": [
    "#Import this result to csv file\n",
    " \n",
    "scraped_data.to_csv('500FilesDataExtractionFinal.csv',index=False)\n"
   ]
  },
  {
   "cell_type": "markdown",
   "metadata": {},
   "source": [
    "Cheers! The results are"
   ]
  },
  {
   "cell_type": "code",
   "execution_count": 20,
   "metadata": {},
   "outputs": [
    {
     "data": {
      "text/html": [
       "<div>\n",
       "<style scoped>\n",
       "    .dataframe tbody tr th:only-of-type {\n",
       "        vertical-align: middle;\n",
       "    }\n",
       "\n",
       "    .dataframe tbody tr th {\n",
       "        vertical-align: top;\n",
       "    }\n",
       "\n",
       "    .dataframe thead th {\n",
       "        text-align: right;\n",
       "    }\n",
       "</style>\n",
       "<table border=\"1\" class=\"dataframe\">\n",
       "  <thead>\n",
       "    <tr style=\"text-align: right;\">\n",
       "      <th></th>\n",
       "      <th>Link</th>\n",
       "      <th>Market Cap (Rs Cr.)</th>\n",
       "      <th>P/E</th>\n",
       "      <th>Book Value (Rs)</th>\n",
       "      <th>Dividend (%)</th>\n",
       "      <th>Market Lot</th>\n",
       "      <th>Industry P/E</th>\n",
       "      <th>EPS (TTM)</th>\n",
       "      <th>P/C</th>\n",
       "    </tr>\n",
       "  </thead>\n",
       "  <tbody>\n",
       "    <tr>\n",
       "      <th>0</th>\n",
       "      <td>https://www.moneycontrol.com/india/stockpricequote/diversified/3mindia/MI42</td>\n",
       "      <td>19,843.42</td>\n",
       "      <td>65.73</td>\n",
       "      <td>1650.70</td>\n",
       "      <td>0.00</td>\n",
       "      <td>1</td>\n",
       "      <td>30.56</td>\n",
       "      <td>268.93</td>\n",
       "      <td>57.74</td>\n",
       "    </tr>\n",
       "    <tr>\n",
       "      <th>1</th>\n",
       "      <td>https://www.moneycontrol.com/india/stockpricequote/financegeneral/aavasfinanciers/AF17</td>\n",
       "      <td>7,519.14</td>\n",
       "      <td>31.6</td>\n",
       "      <td>234.56</td>\n",
       "      <td>0.00</td>\n",
       "      <td>1</td>\n",
       "      <td>17.00</td>\n",
       "      <td>31.09</td>\n",
       "      <td>30.39</td>\n",
       "    </tr>\n",
       "    <tr>\n",
       "      <th>2</th>\n",
       "      <td>https://www.moneycontrol.com/india/stockpricequote/financeinvestments/adityabirlacapital/ABC9</td>\n",
       "      <td>10,668.92</td>\n",
       "      <td>-</td>\n",
       "      <td>34.11</td>\n",
       "      <td>0.00</td>\n",
       "      <td>1</td>\n",
       "      <td>23.53</td>\n",
       "      <td>-</td>\n",
       "      <td>-</td>\n",
       "    </tr>\n",
       "    <tr>\n",
       "      <th>3</th>\n",
       "      <td>https://www.moneycontrol.com/india/stockpricequote/cementmajor/acc/ACC06</td>\n",
       "      <td>22,412.41</td>\n",
       "      <td>16.73</td>\n",
       "      <td>613.52</td>\n",
       "      <td>140.00</td>\n",
       "      <td>1</td>\n",
       "      <td>29.76</td>\n",
       "      <td>71.38</td>\n",
       "      <td>11.54</td>\n",
       "    </tr>\n",
       "    <tr>\n",
       "      <th>4</th>\n",
       "      <td>https://www.moneycontrol.com/india/stockpricequote/trading/adanienterprises/AE13</td>\n",
       "      <td>15,496.32</td>\n",
       "      <td>22.21</td>\n",
       "      <td>34.20</td>\n",
       "      <td>100.00</td>\n",
       "      <td>1</td>\n",
       "      <td>21.55</td>\n",
       "      <td>6.35</td>\n",
       "      <td>18.93</td>\n",
       "    </tr>\n",
       "  </tbody>\n",
       "</table>\n",
       "</div>"
      ],
      "text/plain": [
       "                                                                                            Link  \\\n",
       "0                    https://www.moneycontrol.com/india/stockpricequote/diversified/3mindia/MI42   \n",
       "1         https://www.moneycontrol.com/india/stockpricequote/financegeneral/aavasfinanciers/AF17   \n",
       "2  https://www.moneycontrol.com/india/stockpricequote/financeinvestments/adityabirlacapital/ABC9   \n",
       "3                       https://www.moneycontrol.com/india/stockpricequote/cementmajor/acc/ACC06   \n",
       "4               https://www.moneycontrol.com/india/stockpricequote/trading/adanienterprises/AE13   \n",
       "\n",
       "  Market Cap (Rs Cr.)    P/E Book Value (Rs) Dividend (%) Market Lot  \\\n",
       "0           19,843.42  65.73         1650.70         0.00          1   \n",
       "1            7,519.14   31.6          234.56         0.00          1   \n",
       "2           10,668.92      -           34.11         0.00          1   \n",
       "3           22,412.41  16.73          613.52       140.00          1   \n",
       "4           15,496.32  22.21           34.20       100.00          1   \n",
       "\n",
       "  Industry P/E EPS (TTM)    P/C  \n",
       "0        30.56    268.93  57.74  \n",
       "1        17.00     31.09  30.39  \n",
       "2        23.53         -      -  \n",
       "3        29.76     71.38  11.54  \n",
       "4        21.55      6.35  18.93  "
      ]
     },
     "execution_count": 20,
     "metadata": {},
     "output_type": "execute_result"
    }
   ],
   "source": [
    "# Results\n",
    "scraped_data.iloc[0:5,0:9]"
   ]
  }
 ],
 "metadata": {
  "kernelspec": {
   "display_name": "Python 3",
   "language": "python",
   "name": "python3"
  },
  "language_info": {
   "codemirror_mode": {
    "name": "ipython",
    "version": 3
   },
   "file_extension": ".py",
   "mimetype": "text/x-python",
   "name": "python",
   "nbconvert_exporter": "python",
   "pygments_lexer": "ipython3",
   "version": "3.7.3"
  }
 },
 "nbformat": 4,
 "nbformat_minor": 2
}
